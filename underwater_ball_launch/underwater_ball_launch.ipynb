{
 "cells": [
  {
   "cell_type": "code",
   "execution_count": 1,
   "metadata": {},
   "outputs": [],
   "source": [
    "import numpy as np\n",
    "import matplotlib.pyplot as plt"
   ]
  },
  {
   "cell_type": "code",
   "execution_count": 2,
   "metadata": {},
   "outputs": [],
   "source": [
    "# Variables\n",
    "r_ball_m = 0.1066       # [m]\n",
    "m_ball_kg = 0.28        # [kg]\n",
    "rho_h20_kgpm3 = 997     # [kg/m^3]\n",
    "coeff_drag = 0.5        # [unitless]\n",
    "\n",
    "# Constants\n",
    "g = 9.81    # [m/s^2]\n",
    "\n",
    "# Derived values\n",
    "cross_section_area_ball_m2 = np.pi*np.power(r_ball_m, 2)\n",
    "volume_ball_m3 = (4/3)*np.pi*np.power(r_ball_m, 3)"
   ]
  },
  {
   "cell_type": "code",
   "execution_count": 3,
   "metadata": {},
   "outputs": [],
   "source": [
    "# Constant forces \n",
    "F_buoyancy_N = rho_h20_kgpm3 * g * volume_ball_m3\n",
    "F_g_N = m_ball_kg * g"
   ]
  },
  {
   "cell_type": "code",
   "execution_count": 10,
   "metadata": {},
   "outputs": [
    {
     "name": "stdout",
     "output_type": "stream",
     "text": [
      "Terminal velocity of ball: 2.295 m/s\n"
     ]
    }
   ],
   "source": [
    "# Determining terminal velocity of ball underwater \n",
    "v_ball_mps_numerator = 2*(F_buoyancy_N - F_g_N)\n",
    "v_ball_mps_denominator = rho_h20_kgpm3*coeff_drag*np.pi*np.power(r_ball_m, 2)\n",
    "v_ball_mps = np.sqrt(v_ball_mps_numerator/v_ball_mps_denominator)\n",
    "v_ball_mps_string = \"{:.3f}\".format(v_ball_mps)\n",
    "\n",
    "print(\"Terminal velocity of ball: \" + v_ball_mps_string + \" m/s\")"
   ]
  },
  {
   "cell_type": "code",
   "execution_count": null,
   "metadata": {},
   "outputs": [],
   "source": []
  }
 ],
 "metadata": {
  "kernelspec": {
   "display_name": "Python 3",
   "language": "python",
   "name": "python3"
  },
  "language_info": {
   "codemirror_mode": {
    "name": "ipython",
    "version": 3
   },
   "file_extension": ".py",
   "mimetype": "text/x-python",
   "name": "python",
   "nbconvert_exporter": "python",
   "pygments_lexer": "ipython3",
   "version": "3.9.7"
  },
  "orig_nbformat": 4
 },
 "nbformat": 4,
 "nbformat_minor": 2
}
