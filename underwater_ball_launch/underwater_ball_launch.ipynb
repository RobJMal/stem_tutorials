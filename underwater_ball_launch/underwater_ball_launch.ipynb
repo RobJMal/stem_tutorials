{
 "cells": [
  {
   "cell_type": "code",
   "execution_count": 1,
   "metadata": {},
   "outputs": [],
   "source": [
    "import numpy as np\n",
    "import matplotlib.pyplot as plt"
   ]
  },
  {
   "cell_type": "code",
   "execution_count": 2,
   "metadata": {},
   "outputs": [],
   "source": [
    "# Variables\n",
    "r_ball_m = 0.1066       # [m]\n",
    "m_ball_kg = 0.28        # [kg]\n",
    "rho_h20_kgpm3 = 997     # [kg/m^3]\n",
    "coeff_drag = 0.5        # [unitless]\n",
    "\n",
    "# Constants\n",
    "g = 9.81    # [m/s^2]\n",
    "\n",
    "# Derived values\n",
    "cross_section_area_ball_m2 = np.pi*np.power(r_ball_m, 2)\n",
    "volume_ball_m3 = (4/3)*np.pi*np.power(r_ball_m, 3)\n",
    "\n",
    "force_buoyancy_N = rho_h20_kgpm3 * g * volume_ball_m3\n",
    "force_g_N = m_ball_kg * g"
   ]
  },
  {
   "cell_type": "code",
   "execution_count": 3,
   "metadata": {},
   "outputs": [
    {
     "name": "stdout",
     "output_type": "stream",
     "text": [
      "0.0015151515151515152\n"
     ]
    }
   ],
   "source": [
    "time_points_sec = np.linspace(0, 0.15, 100)\n",
    "delta_time_sec = time_points_sec[1] - time_points_sec[0]\n",
    "print(delta_time_sec)\n",
    "\n",
    "velocity_values_mps = np.zeros_like(time_points_sec)\n",
    "acceleration_values_mps2 = np.zeros_like(time_points_sec)\n",
    "force_net_values_N = np.zeros_like(time_points_sec)"
   ]
  },
  {
   "cell_type": "code",
   "execution_count": 4,
   "metadata": {},
   "outputs": [],
   "source": [
    "def calculate_velocity_mps(acceleration_mps2, delta_time_sec):\n",
    "    return acceleration_mps2 * delta_time_sec\n",
    "\n",
    "def calculate_force_drag_N(velocity_mps):\n",
    "    return (1/2) * rho_h20_kgpm3 * np.power(velocity_mps, 2) * coeff_drag * cross_section_area_ball_m2\n",
    "\n",
    "def calculate_force_net_N(time_point, velocity_value_mps):\n",
    "    # No initial velocity, therefore no drag force at initial time (assumption)\n",
    "    if time_point == 0.0: \n",
    "        return force_buoyancy_N - force_g_N\n",
    "\n",
    "    force_drag_N = calculate_force_drag_N(velocity_value_mps)\n",
    "    return force_buoyancy_N - (force_g_N + force_drag_N)\n",
    "\n",
    "def calculate_acceleration_mps2(force_net_N):\n",
    "    return force_net_N/m_ball_kg"
   ]
  },
  {
   "cell_type": "code",
   "execution_count": 5,
   "metadata": {},
   "outputs": [
    {
     "name": "stdout",
     "output_type": "stream",
     "text": [
      "[4.68809275e+01 4.63082793e+01 4.46182287e+01 4.19328008e+01\n",
      " 3.84633692e+01 3.44752822e+01 3.02455206e+01 2.60246716e+01\n",
      " 2.20112973e+01 1.83413512e+01 1.50904549e+01 1.22843116e+01\n",
      " 9.91236563e+00 7.94108534e+00 6.32489513e+00 5.01412624e+00\n",
      " 3.96018681e+00 3.11851913e+00 2.44998131e+00 1.92120777e+00\n",
      " 1.50437004e+00 1.17662941e+00 9.19468121e-01 7.18009223e-01\n",
      " 5.60384383e-01 4.37176327e-01 3.40943592e-01 2.65824809e-01\n",
      " 2.07214632e-01 1.61501535e-01 1.25857573e-01 9.80709372e-02\n",
      " 7.64132687e-02 5.95349357e-02 4.63826177e-02 3.61345989e-02\n",
      " 2.81500541e-02 2.19293568e-02 1.70830447e-02 1.33075772e-02\n",
      " 1.03664080e-02 8.07521628e-03 6.29038675e-03 4.90002670e-03\n",
      " 3.81696273e-03 2.97328217e-03 2.31607888e-03 1.80413818e-03\n",
      " 1.40535373e-03 1.09471492e-03 8.52738876e-04 6.64248839e-04\n",
      " 5.17422517e-04 4.03050694e-04 3.13959688e-04 2.44561450e-04\n",
      " 1.90503092e-04 1.48393882e-04 1.15592569e-04 9.00417223e-05\n",
      " 7.01386888e-05 5.46350656e-05 4.25583985e-05 3.31511861e-05\n",
      " 2.58233662e-05 2.01153053e-05 1.56689681e-05 1.22054602e-05\n",
      " 9.50753464e-06 7.40596529e-06 5.76893207e-06 4.49375277e-06\n",
      " 3.50044230e-06 2.72669570e-06 2.12398000e-06 1.65449008e-06\n",
      " 1.28877742e-06 1.00390280e-06 7.81997585e-07 6.09142845e-07\n",
      " 4.74496360e-07 3.69612486e-07 2.87912400e-07 2.24271517e-07\n",
      " 1.74697966e-07 1.36082285e-07 1.06002318e-07 8.25712974e-08\n",
      " 6.43195222e-08 5.01021802e-08 3.90274764e-08 3.04007486e-08\n",
      " 2.36808901e-08 1.84464142e-08 1.43689576e-08 1.11928102e-08\n",
      " 8.71872174e-09 6.79151668e-09 5.29029620e-09 4.12091339e-09]\n"
     ]
    }
   ],
   "source": [
    "for i in range(0, len(time_points_sec)):\n",
    "    \n",
    "    velocity_ball_mps = 0.0 \n",
    "    if i > 0:\n",
    "        velocity_ball_mps = calculate_velocity_mps(acceleration_values_mps2[i-1], delta_time_sec) + velocity_values_mps[i-1]\n",
    "    \n",
    "    velocity_values_mps[i] = velocity_ball_mps\n",
    "\n",
    "    force_net_N = calculate_force_net_N(time_points_sec[i], velocity_ball_mps)\n",
    "    force_net_values_N[i] = force_net_N\n",
    "\n",
    "    acceleration_ball_mps2 = force_net_N/m_ball_kg\n",
    "    acceleration_values_mps2[i] = acceleration_ball_mps2 \n",
    "    \n",
    "print(force_net_values_N)"
   ]
  },
  {
   "cell_type": "code",
   "execution_count": 6,
   "metadata": {},
   "outputs": [
    {
     "data": {
      "text/plain": [
       "[<matplotlib.lines.Line2D at 0x239ffe5c310>]"
      ]
     },
     "execution_count": 6,
     "metadata": {},
     "output_type": "execute_result"
    },
    {
     "data": {
      "image/png": "[encoded data removed]",
      "text/plain": [
       "<Figure size 432x288 with 1 Axes>"
      ]
     },
     "metadata": {
      "needs_background": "light"
     },
     "output_type": "display_data"
    }
   ],
   "source": [
    "plt.plot(time_points_sec, force_net_values_N)"
   ]
  },
  {
   "attachments": {},
   "cell_type": "markdown",
   "metadata": {},
   "source": [
    "### Forces"
   ]
  },
  {
   "cell_type": "code",
   "execution_count": null,
   "metadata": {},
   "outputs": [],
   "source": [
    "# Constant forces \n",
    "F_buoyancy_N = rho_h20_kgpm3 * g * volume_ball_m3\n",
    "F_g_N = m_ball_kg * g"
   ]
  },
  {
   "attachments": {},
   "cell_type": "markdown",
   "metadata": {},
   "source": [
    "### Determining behavior at terminal velocity"
   ]
  },
  {
   "cell_type": "code",
   "execution_count": null,
   "metadata": {},
   "outputs": [],
   "source": [
    "# Determining terminal velocity of ball underwater \n",
    "v_ball_mps_numerator = 2*(F_buoyancy_N - F_g_N)\n",
    "v_ball_mps_denominator = rho_h20_kgpm3*coeff_drag*np.pi*np.power(r_ball_m, 2)\n",
    "v_ball_mps = np.sqrt(v_ball_mps_numerator/v_ball_mps_denominator)\n",
    "v_ball_mps_string = \"{:.3f}\".format(v_ball_mps)\n",
    "\n",
    "print(\"Terminal velocity of ball: \" + v_ball_mps_string + \" m/s\")"
   ]
  },
  {
   "cell_type": "code",
   "execution_count": null,
   "metadata": {},
   "outputs": [],
   "source": []
  }
 ],
 "metadata": {
  "kernelspec": {
   "display_name": "Python 3",
   "language": "python",
   "name": "python3"
  },
  "language_info": {
   "codemirror_mode": {
    "name": "ipython",
    "version": 3
   },
   "file_extension": ".py",
   "mimetype": "text/x-python",
   "name": "python",
   "nbconvert_exporter": "python",
   "pygments_lexer": "ipython3",
   "version": "3.9.7"
  },
  "orig_nbformat": 4
 },
 "nbformat": 4,
 "nbformat_minor": 2
}
