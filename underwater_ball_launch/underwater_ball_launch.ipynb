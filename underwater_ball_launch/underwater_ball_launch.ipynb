{
 "cells": [
  {
   "cell_type": "code",
   "execution_count": null,
   "metadata": {},
   "outputs": [],
   "source": [
    "import numpy as np\n",
    "import matplotlib.pyplot as plt"
   ]
  },
  {
   "cell_type": "code",
   "execution_count": null,
   "metadata": {},
   "outputs": [],
   "source": [
    "# Variables\n",
    "r_ball_m = 0.1066       # [m]\n",
    "m_ball_kg = 0.28        # [kg]\n",
    "rho_h20_kgpm3 = 997     # [kg/m^3]\n",
    "coeff_drag = 0.5        # [unitless]\n",
    "\n",
    "# Constants\n",
    "g = 9.81                            # [m/s^2]\n",
    "depth_start_m = r_ball_m            # [m]\n",
    "depth_current_m = depth_start_m     # [m]\n",
    "\n",
    "# Derived values\n",
    "cross_section_area_ball_m2 = np.pi*np.power(r_ball_m, 2)\n",
    "volume_ball_m3 = (4/3)*np.pi*np.power(r_ball_m, 3)\n",
    "\n",
    "force_buoyancy_N = rho_h20_kgpm3 * g * volume_ball_m3\n",
    "force_g_N = m_ball_kg * g"
   ]
  },
  {
   "cell_type": "code",
   "execution_count": null,
   "metadata": {},
   "outputs": [],
   "source": [
    "start_time_point_sec = 0    # [sec]\n",
    "end_time_point_sec = 0.1    # [sec]\n",
    "number_of_time_points = 10000\n",
    "time_points_sec = np.linspace(start_time_point_sec, end_time_point_sec, number_of_time_points)\n",
    "delta_time_sec = time_points_sec[1] - time_points_sec[0]\n",
    "\n",
    "velocity_values_mps = np.zeros_like(time_points_sec)\n",
    "acceleration_values_mps2 = np.zeros_like(time_points_sec)\n",
    "force_net_values_N = np.zeros_like(time_points_sec)"
   ]
  },
  {
   "cell_type": "code",
   "execution_count": null,
   "metadata": {},
   "outputs": [],
   "source": [
    "def calculate_velocity_mps(acceleration_mps2, delta_time_sec):\n",
    "    return acceleration_mps2 * delta_time_sec\n",
    "\n",
    "def calculate_force_drag_N(velocity_mps):\n",
    "    return (1/2) * rho_h20_kgpm3 * np.power(velocity_mps, 2) * coeff_drag * cross_section_area_ball_m2\n",
    "\n",
    "def calculate_force_net_N(time_point, velocity_value_mps):\n",
    "    # No initial velocity, therefore no drag force at initial time (assumption)\n",
    "    if time_point == 0.0: \n",
    "        return force_buoyancy_N - force_g_N\n",
    "\n",
    "    force_drag_N = calculate_force_drag_N(velocity_value_mps)\n",
    "    return force_buoyancy_N - (force_g_N + force_drag_N)\n",
    "\n",
    "def calculate_acceleration_mps2(force_net_N, mass_kg):\n",
    "    '''\n",
    "    Calculates the acceleration based on F=ma equation. \n",
    "    '''\n",
    "    return force_net_N/mass_kg\n",
    "\n",
    "def calculate_volume_ball_submerged(radius_ball_m, midpoint_depth_m):\n",
    "    '''\n",
    "    Calculates the volume of the ball that is submerged underwater. \n",
    "    '''\n",
    "\n",
    "    if midpoint_depth_m > radius_ball_m:\n",
    "        midpoint_depth_m = radius_ball_m\n",
    "\n",
    "    number_of_ball_length_points = 10000\n",
    "    ball_length_values = np.linspace(-radius_ball_m, midpoint_depth_m, number_of_ball_length_points)\n",
    "    delta_ball_length_points = ball_length_values[1] - ball_length_values[0]\n",
    "    \n",
    "    volume_ball_integrand = np.pi * (np.power(radius_ball_m, 2) - np.power(ball_length_values, 2))\n",
    "\n",
    "    return np.sum(volume_ball_integrand) * delta_ball_length_points\n",
    "\n",
    "def calculate_frontal_area_ball_submerged(radius_ball_m, midpoint_depth_m):\n",
    "    '''\n",
    "    Calculates the frontal area of the ball that is submerged underwater. \n",
    "    '''\n",
    "    if midpoint_depth_m >= 0:\n",
    "        return np.pi*np.power(radius_ball_m, 2)\n",
    "    elif midpoint_depth_m < 0:\n",
    "        return np.pi*(np.power(radius_ball_m, 2) - np.power(midpoint_depth_m, 2))"
   ]
  },
  {
   "cell_type": "code",
   "execution_count": null,
   "metadata": {},
   "outputs": [],
   "source": [
    "for i in range(0, len(time_points_sec)):\n",
    "    \n",
    "    velocity_ball_mps = 0.0 \n",
    "    if i > 0:\n",
    "        velocity_ball_mps = calculate_velocity_mps(acceleration_values_mps2[i-1], delta_time_sec) + velocity_values_mps[i-1]\n",
    "    \n",
    "    velocity_values_mps[i] = velocity_ball_mps\n",
    "\n",
    "    force_net_N = calculate_force_net_N(time_points_sec[i], velocity_ball_mps)\n",
    "    force_net_values_N[i] = force_net_N\n",
    "\n",
    "    acceleration_ball_mps2 = force_net_N/m_ball_kg\n",
    "    acceleration_values_mps2[i] = acceleration_ball_mps2 "
   ]
  },
  {
   "cell_type": "code",
   "execution_count": null,
   "metadata": {},
   "outputs": [],
   "source": [
    "# Obtaining position of ball over time \n",
    "position_ball_values_m = np.cumsum(velocity_values_mps) * delta_time_sec"
   ]
  },
  {
   "cell_type": "code",
   "execution_count": null,
   "metadata": {},
   "outputs": [],
   "source": [
    "fig, axs = plt.subplots(3, 1, figsize=(7, 15))\n",
    "\n",
    "axs[0].plot(time_points_sec, force_net_values_N, color=\"red\")\n",
    "axs[0].set(title=\"Net force on ball\", \n",
    "           xlabel=\"Time [sec]\", \n",
    "           ylabel=\"Net Force [N]\")\n",
    "\n",
    "axs[1].plot(time_points_sec, velocity_values_mps, color='blue')\n",
    "axs[1].set(title=\"Velocity of ball\",\n",
    "           xlabel=\"Time [sec]\",\n",
    "           ylabel=\"Velocity [m/s]\")\n",
    "\n",
    "axs[2].plot(time_points_sec, position_ball_values_m, color='green')\n",
    "axs[2].set(title=\"Position of ball\",\n",
    "           xlabel=\"Time [sec]\",\n",
    "           ylabel=\"Position [m]\")\n",
    "\n",
    "plt.subplots_adjust(wspace=0.25, hspace=0.25)\n"
   ]
  },
  {
   "attachments": {},
   "cell_type": "markdown",
   "metadata": {},
   "source": [
    "### Determining behavior at terminal velocity"
   ]
  },
  {
   "cell_type": "code",
   "execution_count": null,
   "metadata": {},
   "outputs": [],
   "source": [
    "# Determining terminal velocity of ball underwater \n",
    "v_ball_mps_numerator = 2*(force_buoyancy_N - force_g_N)\n",
    "v_ball_mps_denominator = rho_h20_kgpm3*coeff_drag*np.pi*np.power(r_ball_m, 2)\n",
    "v_ball_mps = np.sqrt(v_ball_mps_numerator/v_ball_mps_denominator)\n",
    "v_ball_mps_string = \"{:.3f}\".format(v_ball_mps)\n",
    "\n",
    "print(\"Terminal velocity of ball: \" + v_ball_mps_string + \" m/s\")"
   ]
  },
  {
   "attachments": {},
   "cell_type": "markdown",
   "metadata": {},
   "source": [
    "### Questions and miscellaneous thoughts\n",
    "1. How much do we need to account for surface tension? Based on research, because the object is big, and the effects of other forces play a greater role, surface tension might not come into play. However, based on experimenting with submerging the ball, if the ball is submerged deep enough, the ball won't be \"launched.\" Rather, it will come up to the surface with a layer of water on it, and soon the water will \"fall off.\" I believe that this is the surface tension that is acting on the ball because when the net force on the ball is zero from the other forces, the surface tension could be big enough that it would push the ball down or keep it submerged for as long as it can. "
   ]
  }
 ],
 "metadata": {
  "kernelspec": {
   "display_name": "Python 3",
   "language": "python",
   "name": "python3"
  },
  "language_info": {
   "codemirror_mode": {
    "name": "ipython",
    "version": 3
   },
   "file_extension": ".py",
   "mimetype": "text/x-python",
   "name": "python",
   "nbconvert_exporter": "python",
   "pygments_lexer": "ipython3",
   "version": "3.9.7"
  },
  "orig_nbformat": 4
 },
 "nbformat": 4,
 "nbformat_minor": 2
}
